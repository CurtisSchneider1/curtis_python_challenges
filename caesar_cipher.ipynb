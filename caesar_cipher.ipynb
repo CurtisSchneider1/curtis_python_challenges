{
 "cells": [
  {
   "cell_type": "code",
   "execution_count": null,
   "id": "ea74e14e",
   "metadata": {},
   "outputs": [],
   "source": [
    "alphabet = \"abcdefghijklmnopqrstuvwxyz\"\n",
    "\n",
    "phrase = input(\"Please enter a sentence: \")\n",
    "\n",
    "phrase = phrase.lower()\n",
    "\n",
    "encrypted_phrase = \"\"\n",
    "\n",
    "shift = 100 \n",
    "\n",
    "for char in phrase:\n",
    "    if char in alphabet:\n",
    "        index = alphabet.find(char)\n",
    "        index = (index + shift) % 26\n",
    "        char = alphabet[index]\n",
    "    encrypted_phrase += char\n",
    "\n",
    "print('The encrypted sentence is:',  encrypted_phrase)"
   ]
  },
  {
   "cell_type": "code",
   "execution_count": 22,
   "id": "3f83c536",
   "metadata": {},
   "outputs": [
    {
     "name": "stdout",
     "output_type": "stream",
     "text": [
      "Khoor Zruog!A123\n",
      "64\n"
     ]
    }
   ],
   "source": [
    "# the caesar cipher done in class 8/12/25\n",
    "\n",
    "def caesar_cipher(text, shift):\n",
    "    coded_text = \"\"\n",
    "    actual_shift = shift % 26\n",
    "    for char in text:\n",
    "        if char.isalpha():\n",
    "            start_unicode_value = ord(char)\n",
    "            end_unicode_value = start_unicode_value + actual_shift\n",
    "            if char.isupper():\n",
    "                if end_unicode_value > 90:\n",
    "                    end_unicode_value -= 26\n",
    "                coded_text += chr(end_unicode_value)\n",
    "            else:\n",
    "                if end_unicode_value > 122:\n",
    "                    end_unicode_value -= 26\n",
    "                coded_text += chr(end_unicode_value)\n",
    "        else:\n",
    "            coded_text += char\n",
    "    return coded_text\n",
    "\n",
    "print(caesar_cipher(\"Hello World!X123\", 3))\n",
    "print(ord(\"@\"))"
   ]
  },
  {
   "cell_type": "code",
   "execution_count": null,
   "id": "976dea59",
   "metadata": {},
   "outputs": [
    {
     "name": "stdout",
     "output_type": "stream",
     "text": [
      "Lipps, Asvph!1234b"
     ]
    }
   ],
   "source": [
    "# added the alphabet wrap\n",
    "# program passes all test cases\n",
    "\n",
    "special_chars = [\"!\", \".\", \",\", \"?\", \" \", \";\", \":\", \"-\"]\n",
    "\n",
    "\n",
    "def caesar_cipher(text: str, shift: int):\n",
    "    actual_shift = shift % 26\n",
    "    for char in text:\n",
    "        check_char = char.isnumeric()\n",
    "        if char not in special_chars and check_char == False:\n",
    "            if ord(\"a\") <= (ord(char) + actual_shift) <= ord(\"z\"):\n",
    "                x = ord(char)\n",
    "                y = x + actual_shift\n",
    "                z = chr(y)\n",
    "                print(z, end=\"\")\n",
    "            elif ord(\"A\") <= (ord(char) + actual_shift) <= ord(\"Z\"):\n",
    "                x = ord(char)\n",
    "                y = x + actual_shift\n",
    "                z = chr(y)\n",
    "                print(z, end=\"\")\n",
    "            elif (ord(char) + actual_shift) > ord(\"z\"):\n",
    "                wrap = (ord(char) + actual_shift) - ord(\"z\") # Ex: \"y\" = 121 + shift 5 = 126 - 122 = 4\n",
    "                x = (ord(\"a\") - 1) + wrap\n",
    "                z = chr(x)\n",
    "                print(z, end=\"\")\n",
    "            elif (ord(char) + actual_shift) > ord(\"Z\"):\n",
    "                wrap = (ord(char) + actual_shift) - ord(\"Z\") # Ex: \"W\" = 87 + shift 5 = 92 - 90 = 2\n",
    "                x = (ord(\"A\") - 1) + wrap # had to include A with the -1\n",
    "                z = chr(x)\n",
    "                print(z, end=\"\")\n",
    "        else:\n",
    "            print(char, end=\"\")\n",
    "        \n",
    "\n",
    "caesar_cipher(\"Hello, World!1234x\", 100000)"
   ]
  },
  {
   "cell_type": "code",
   "execution_count": null,
   "id": "7844a55b",
   "metadata": {},
   "outputs": [],
   "source": [
    "                y = x + actual_shift\n",
    "                z = chr(y)\n",
    "                print(z, end=\"\")\n",
    "            elif (ord(char) + actual_shift) > ord(\"z\"):\n",
    "                wrap = (ord(char) + actual_shift) - ord(\"z\") # Ex: \"y\" = 121 + shift 5 = 126 - 122 = 4\n",
    "                x = (ord(\"a\") - 1) + wrap\n",
    "                z = chr(x)\n",
    "                print(z, end=\"\")\n",
    "            elif (ord(char) + actual_shift) > ord(\"Z\"):\n",
    "                wrap = (ord(char) + actual_shift) - ord(\"Z\") # Ex: \"W\" = 87 + shift 5 = 92 - 90 = 2\n",
    "                x = (ord(\"A\") - 1) + wrap # had to include A with the -1\n",
    "                z = chr(x)\n",
    "                print(z, end=\"\")\n",
    "        else:\n",
    "            print(char, end=\"\")\n",
    "        \n",
    "\n",
    "caesar_cipher(\"Hello, World!1234x\", 100000)"
   ]
  },
  {
   "cell_type": "code",
   "execution_count": null,
   "id": "540d89d8",
   "metadata": {},
   "outputs": [],
   "source": []
  },
  {
   "cell_type": "code",
   "execution_count": null,
   "id": "7845212c",
   "metadata": {},
   "outputs": [],
   "source": [
    "                z = chr(y)\n",
    "                print(z, end=\"\")\n",
    "            elif ord(\"A\") <= (ord(char) + actual_shift) <= ord(\"Z\"):\n",
    "                x = ord(char)\n",
    "                y = x + actual_shift\n",
    "                z = chr(y)\n",
    "                print(z, end=\"\")\n",
    "            elif (ord(char) + actual_shift) > ord(\"z\"):\n",
    "                wrap = (ord(char) + actual_shift) - ord(\"z\") # Ex: \"y\" = 121 + shift 5 = 126 - 122 = 4\n",
    "                x = (ord(\"a\") - 1) + wrap\n",
    "                z = chr(x)\n",
    "                print(z, end=\"\")\n",
    "            elif (ord(char) + actual_shift) > ord(\"Z\"):\n",
    "                wrap = (ord(char) + actual_shift) - ord(\"Z\") # Ex: \"W\" = 87 + shift 5 = 92 - 90 = 2\n",
    "                x = (ord(\"A\") - 1) + wrap # had to include A with the -1\n",
    "                z = chr(x)\n",
    "                print(z, end=\"\")\n",
    "        else:\n",
    "            print(char, end=\"\")\n",
    "        \n",
    "\n",
    "caesar_cipher(\"Hello, World!1234x\", 5)"
   ]
  },
  {
   "cell_type": "code",
   "execution_count": 56,
   "id": "fc9974bc",
   "metadata": {},
   "outputs": [
    {
     "name": "stdout",
     "output_type": "stream",
     "text": [
      "Mjqqt, \\twqi!1234"
     ]
    }
   ],
   "source": [
    "# check for numbers\n",
    "\n",
    "special_chars = [\"!\", \".\", \",\", \"?\", \" \", \";\", \":\"]\n",
    "\n",
    "\n",
    "def caesar_cipher(text: str, shift: int):\n",
    "    actual_shift = shift % 26\n",
    "    for char in text:\n",
    "        check_char = char.isnumeric()\n",
    "        if char not in special_chars and check_char == False:\n",
    "            x = ord(char)\n",
    "            y = x + actual_shift\n",
    "            z = chr(y)\n",
    "            print(z, end=\"\")\n",
    "        else:\n",
    "            print(char, end=\"\")\n",
    "        \n",
    "\n",
    "caesar_cipher(\"Hello, World!1234\", 5)"
   ]
  },
  {
   "cell_type": "code",
   "execution_count": null,
   "id": "e2e01b8d",
   "metadata": {},
   "outputs": [
    {
     "name": "stdout",
     "output_type": "stream",
     "text": [
      "Mjqqt, \\twqi!"
     ]
    }
   ],
   "source": [
    "# accounting for special characters and shifts > 26\n",
    "\n",
    "special_chars = [\"!\", \".\", \",\", \"?\", \" \", \";\", \":\"]\n",
    "\n",
    "def caesar_cipher(text: str, shift: int):\n",
    "    actual_shift = shift % 26\n",
    "    for char in text:\n",
    "        if char not in special_chars:\n",
    "            x = ord(char)\n",
    "            y = x + actual_shift\n",
    "            z = chr(y)\n",
    "            print(z, end=\"\")\n",
    "        else:\n",
    "            print(char, end=\"\")\n",
    "        \n",
    "\n",
    "caesar_cipher(\"Hello, World!\", 5)"
   ]
  },
  {
   "cell_type": "code",
   "execution_count": null,
   "id": "6cd35d49",
   "metadata": {},
   "outputs": [
    {
     "name": "stdout",
     "output_type": "stream",
     "text": [
      "def"
     ]
    }
   ],
   "source": [
    "# got the first test case to work, but doesn't work for special characters, number, and alphabet wrapping\n",
    "\n",
    "def caesar_cipher(text: str, shift: int):\n",
    "        for char in text:\n",
    "            x = ord(char)\n",
    "            y = x + shift\n",
    "            z = chr(y)\n",
    "            print(z, end=\"\")\n",
    "\n",
    "caesar_cipher(\"abc\", 3)"
   ]
  },
  {
   "cell_type": "code",
   "execution_count": null,
   "id": "fd6f4d38",
   "metadata": {},
   "outputs": [
    {
     "name": "stdout",
     "output_type": "stream",
     "text": [
      "100\n",
      "101\n",
      "102\n"
     ]
    }
   ],
   "source": [
    "def caesar_cipher(text: str, shift: int):\n",
    "    for char in text:\n",
    "        x = ord(char)\n",
    "        y = x + shift\n",
    "        print(y)\n",
    "\n",
    "caesar_cipher(\"abc\", 3)"
   ]
  },
  {
   "cell_type": "code",
   "execution_count": 67,
   "id": "ed0bb896",
   "metadata": {},
   "outputs": [
    {
     "name": "stdout",
     "output_type": "stream",
     "text": [
      "65\n",
      "90\n",
      "97\n",
      "122\n"
     ]
    }
   ],
   "source": [
    "print(ord(\"A\"))\n",
    "print(ord(\"Z\"))\n",
    "print(ord(\"a\"))\n",
    "print(ord(\"z\"))"
   ]
  }
 ],
 "metadata": {
  "kernelspec": {
   "display_name": "Python 3",
   "language": "python",
   "name": "python3"
  },
  "language_info": {
   "codemirror_mode": {
    "name": "ipython",
    "version": 3
   },
   "file_extension": ".py",
   "mimetype": "text/x-python",
   "name": "python",
   "nbconvert_exporter": "python",
   "pygments_lexer": "ipython3",
   "version": "3.13.4"
  }
 },
 "nbformat": 4,
 "nbformat_minor": 5
}
