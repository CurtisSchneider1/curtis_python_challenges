{
 "cells": [
  {
   "cell_type": "code",
   "execution_count": 19,
   "id": "77134cfe",
   "metadata": {},
   "outputs": [
    {
     "name": "stdout",
     "output_type": "stream",
     "text": [
      "-2\n"
     ]
    }
   ],
   "source": [
    "# find the maximum value in the list\n",
    "# set max_num to the first index in the list as a dynamic comparison\n",
    "# works with a mix of positive and negative numbers\n",
    "\n",
    "def find_max(args: list):\n",
    "    max_num = args[0]\n",
    "    for num in args:\n",
    "        if num > max_num:\n",
    "            max_num = num\n",
    "    print(max_num)\n",
    "\n",
    "find_max([-5, -9, -2, -12])"
   ]
  }
 ],
 "metadata": {
  "kernelspec": {
   "display_name": "Python 3",
   "language": "python",
   "name": "python3"
  },
  "language_info": {
   "codemirror_mode": {
    "name": "ipython",
    "version": 3
   },
   "file_extension": ".py",
   "mimetype": "text/x-python",
   "name": "python",
   "nbconvert_exporter": "python",
   "pygments_lexer": "ipython3",
   "version": "3.13.4"
  }
 },
 "nbformat": 4,
 "nbformat_minor": 5
}
