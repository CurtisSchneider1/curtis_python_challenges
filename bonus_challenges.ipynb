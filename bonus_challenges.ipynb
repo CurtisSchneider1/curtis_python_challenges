{
 "cells": [
  {
   "cell_type": "markdown",
   "id": "6ca787af",
   "metadata": {},
   "source": [
    "LEVEL UP! Bonus Challanges (3 total)"
   ]
  },
  {
   "cell_type": "code",
   "execution_count": null,
   "id": "0c4d7edc",
   "metadata": {},
   "outputs": [
    {
     "data": {
      "text/plain": [
       "{'the': 2, 'cat': 1, 'in': 1, 'hat': 1}"
      ]
     },
     "execution_count": 38,
     "metadata": {},
     "output_type": "execute_result"
    }
   ],
   "source": [
    "# counting the words in a text file\n",
    "# what is the best way to replace all punctuation?\n",
    "\n",
    "def word_counter():\n",
    "    count_dict = {}\n",
    "    with open('words.txt', 'r') as file:\n",
    "        content = file.read()\n",
    "    clean_content = content.lower().replace(\".\", \"\") # trying out the replace method for the first time\n",
    "    words = clean_content.split() # breaking out each word\n",
    "    for w in words:\n",
    "        if w not in count_dict:\n",
    "            count_dict[w] = 1\n",
    "        elif w in count_dict:\n",
    "            count_dict[w] += 1\n",
    "    return count_dict\n",
    "\n",
    "word_counter()\n"
   ]
  },
  {
   "cell_type": "code",
   "execution_count": 14,
   "id": "b2ac9185",
   "metadata": {},
   "outputs": [
    {
     "name": "stdout",
     "output_type": "stream",
     "text": [
      "Log updated!\n"
     ]
    }
   ],
   "source": [
    "# write and save a log file\n",
    "import datetime\n",
    "\n",
    "log_stamp = input(\"Please enter log activitiy: \")\n",
    "with open('log.txt', 'a') as file:\n",
    "    current_time = datetime.datetime.now()\n",
    "    file.write(str(current_time) + \" \")\n",
    "    file.write(log_stamp + \"\\n\")\n",
    "    \n",
    "    \n",
    "print(\"Log updated!\")\n",
    "\n"
   ]
  },
  {
   "cell_type": "code",
   "execution_count": null,
   "id": "bf0f1586",
   "metadata": {},
   "outputs": [
    {
     "name": "stdout",
     "output_type": "stream",
     "text": [
      "Result: 9\n"
     ]
    }
   ],
   "source": [
    "# Basic Calculator\n",
    "\n",
    "o = input(\"Choose operation (add, subtract, multiply, divide): \")\n",
    "a = int(input(\"Enter first number: \"))\n",
    "b = int(input(\"Enter second number: \"))\n",
    "\n",
    "\n",
    "def add(a, b):\n",
    "    result = a + b\n",
    "    return f\"Result: {result}\"\n",
    "\n",
    "def multiply(a, b):\n",
    "    result = a * b\n",
    "    return f\"Result: {result}\"\n",
    "\n",
    "def subtract(a, b):\n",
    "    result = a - b\n",
    "    return f\"Result: {result}\"\n",
    "\n",
    "def divide(a, b):\n",
    "    result = a / b\n",
    "    return f\"Result: {result}\"\n",
    "\n",
    "if o == \"add\":\n",
    "    print(add(a, b))\n",
    "elif o == \"multiply\":\n",
    "    print(multiply(a, b))\n",
    "elif o == \"subtract\":\n",
    "    print(subtract(a, b))\n",
    "elif o == \"divide\":\n",
    "    print(divide(a, b))\n",
    "else:\n",
    "    print(\"Invalid operation\")\n"
   ]
  }
 ],
 "metadata": {
  "kernelspec": {
   "display_name": "Python 3",
   "language": "python",
   "name": "python3"
  },
  "language_info": {
   "codemirror_mode": {
    "name": "ipython",
    "version": 3
   },
   "file_extension": ".py",
   "mimetype": "text/x-python",
   "name": "python",
   "nbconvert_exporter": "python",
   "pygments_lexer": "ipython3",
   "version": "3.13.4"
  }
 },
 "nbformat": 4,
 "nbformat_minor": 5
}
